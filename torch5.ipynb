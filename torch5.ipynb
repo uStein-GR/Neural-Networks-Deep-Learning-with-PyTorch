{
 "cells": [
  {
   "cell_type": "code",
   "execution_count": 4,
   "metadata": {},
   "outputs": [
    {
     "name": "stderr",
     "output_type": "stream",
     "text": [
      "<>:10: SyntaxWarning: invalid escape sequence '\\K'\n",
      "<>:11: SyntaxWarning: invalid escape sequence '\\K'\n",
      "<>:10: SyntaxWarning: invalid escape sequence '\\K'\n",
      "<>:11: SyntaxWarning: invalid escape sequence '\\K'\n",
      "C:\\Users\\Spieg\\AppData\\Local\\Temp\\ipykernel_16940\\3331596956.py:10: SyntaxWarning: invalid escape sequence '\\K'\n",
      "  CATS = \"D:\\KMUTT\\Year 4th\\ENE490 DL\\Coding\\PetImages\\Cat\"\n",
      "C:\\Users\\Spieg\\AppData\\Local\\Temp\\ipykernel_16940\\3331596956.py:11: SyntaxWarning: invalid escape sequence '\\K'\n",
      "  DOGS = \"D:\\KMUTT\\Year 4th\\ENE490 DL\\Coding\\PetImages\\Dog\"\n"
     ]
    },
    {
     "name": "stdout",
     "output_type": "stream",
     "text": [
      "D:\\KMUTT\\Year 4th\\ENE490 DL\\Coding\\PetImages\\Cat\n"
     ]
    },
    {
     "name": "stderr",
     "output_type": "stream",
     "text": [
      "100%|██████████| 12501/12501 [01:08<00:00, 183.53it/s]\n"
     ]
    },
    {
     "name": "stdout",
     "output_type": "stream",
     "text": [
      "D:\\KMUTT\\Year 4th\\ENE490 DL\\Coding\\PetImages\\Dog\n"
     ]
    },
    {
     "name": "stderr",
     "output_type": "stream",
     "text": [
      "100%|██████████| 12501/12501 [00:19<00:00, 633.09it/s] "
     ]
    },
    {
     "name": "stdout",
     "output_type": "stream",
     "text": [
      "Cats:  1\n",
      "Dogs:  0\n"
     ]
    },
    {
     "name": "stderr",
     "output_type": "stream",
     "text": [
      "\n"
     ]
    }
   ],
   "source": [
    "import os\n",
    "import cv2\n",
    "import numpy as np\n",
    "from  tqdm import tqdm\n",
    "\n",
    "REBUILD_DATA = True\n",
    "\n",
    "class DogVSCats():\n",
    "    IMG_SIZE = 50\n",
    "    CATS = \"D:\\KMUTT\\Year 4th\\ENE490 DL\\Coding\\PetImages\\Cat\"\n",
    "    DOGS = \"D:\\KMUTT\\Year 4th\\ENE490 DL\\Coding\\PetImages\\Dog\"\n",
    "    LABELS = {CATS: 0, DOGS: 1}\n",
    "\n",
    "    training_data = []\n",
    "    catcount = 0\n",
    "    dogcount = 0\n",
    "\n",
    "    def make_training_data(self):\n",
    "        for label in self.LABELS:\n",
    "            print(label)\n",
    "            for f in tqdm(os.listdir(label)):\n",
    "                try:\n",
    "                    path = os.path.join(label, f)\n",
    "                    img = cv2.imread(path, cv2.IMREAD_GRAYSCALE)\n",
    "                    img = cv2.resize(img, (self.IMG_SIZE, self.IMG_SIZE))\n",
    "                    self.training_data.append([np.array(img), np.eye(2)[self.LABELS[label]]])\n",
    "                    self.training_data = np.array(self.training_data, dtype=object)\n",
    "\n",
    "                    if label == self.CATS:\n",
    "                        self.catcount += 1\n",
    "                    elif label == self.DOGS:\n",
    "                        self.dogcount += 1\n",
    "                except Exception as e:\n",
    "                    pass\n",
    "                    # print(str(e))\n",
    "        np.random.shuffle(self.training_data)\n",
    "        np.save(\"train_data.npy\", self.training_data, allow_pickle=True)\n",
    "        print(\"Cats: \", self.catcount)\n",
    "        print(\"Dogs: \", self.dogcount)\n",
    "\n",
    "if REBUILD_DATA:\n",
    "    dogsvcats = DogVSCats()\n",
    "    dogsvcats.make_training_data()"
   ]
  },
  {
   "cell_type": "code",
   "execution_count": 5,
   "metadata": {},
   "outputs": [
    {
     "name": "stderr",
     "output_type": "stream",
     "text": [
      "<>:10: SyntaxWarning: invalid escape sequence '\\K'\n",
      "<>:11: SyntaxWarning: invalid escape sequence '\\K'\n",
      "<>:10: SyntaxWarning: invalid escape sequence '\\K'\n",
      "<>:11: SyntaxWarning: invalid escape sequence '\\K'\n",
      "C:\\Users\\Spieg\\AppData\\Local\\Temp\\ipykernel_16940\\4114452992.py:10: SyntaxWarning: invalid escape sequence '\\K'\n",
      "  CATS = \"D:\\KMUTT\\Year 4th\\ENE490 DL\\Coding\\PetImages\\Cat\"\n",
      "C:\\Users\\Spieg\\AppData\\Local\\Temp\\ipykernel_16940\\4114452992.py:11: SyntaxWarning: invalid escape sequence '\\K'\n",
      "  DOGS = \"D:\\KMUTT\\Year 4th\\ENE490 DL\\Coding\\PetImages\\Dog\"\n"
     ]
    },
    {
     "name": "stdout",
     "output_type": "stream",
     "text": [
      "D:\\KMUTT\\Year 4th\\ENE490 DL\\Coding\\PetImages\\Cat\n"
     ]
    },
    {
     "name": "stderr",
     "output_type": "stream",
     "text": [
      "100%|██████████| 12501/12501 [00:08<00:00, 1474.68it/s]\n"
     ]
    },
    {
     "name": "stdout",
     "output_type": "stream",
     "text": [
      "D:\\KMUTT\\Year 4th\\ENE490 DL\\Coding\\PetImages\\Dog\n"
     ]
    },
    {
     "name": "stderr",
     "output_type": "stream",
     "text": [
      "100%|██████████| 12501/12501 [00:08<00:00, 1400.51it/s]\n"
     ]
    },
    {
     "name": "stdout",
     "output_type": "stream",
     "text": [
      "Cats:  12476\n",
      "Dogs:  12470\n"
     ]
    }
   ],
   "source": [
    "import os\n",
    "import cv2\n",
    "import numpy as np\n",
    "from tqdm import tqdm\n",
    "\n",
    "REBUILD_DATA = True\n",
    "\n",
    "class DogVSCats():\n",
    "    IMG_SIZE = 50\n",
    "    CATS = \"D:\\KMUTT\\Year 4th\\ENE490 DL\\Coding\\PetImages\\Cat\"\n",
    "    DOGS = \"D:\\KMUTT\\Year 4th\\ENE490 DL\\Coding\\PetImages\\Dog\"\n",
    "    LABELS = {CATS: 0, DOGS: 1}\n",
    "\n",
    "    training_data = []\n",
    "    catcount = 0\n",
    "    dogcount = 0\n",
    "\n",
    "    def make_training_data(self):\n",
    "        for label in self.LABELS:\n",
    "            print(label)\n",
    "            for f in tqdm(os.listdir(label)):\n",
    "                try:\n",
    "                    path = os.path.join(label, f)\n",
    "                    img = cv2.imread(path, cv2.IMREAD_GRAYSCALE)\n",
    "                    img = cv2.resize(img, (self.IMG_SIZE, self.IMG_SIZE))\n",
    "                    # Ensure the label is a one-hot encoded array\n",
    "                    label_array = np.eye(2)[self.LABELS[label]]\n",
    "                    self.training_data.append([np.array(img), label_array])\n",
    "\n",
    "                    if label == self.CATS:\n",
    "                        self.catcount += 1\n",
    "                    elif label == self.DOGS:\n",
    "                        self.dogcount += 1\n",
    "                except Exception as e:\n",
    "                    # print(f\"Error processing file {f}: {e}\")\n",
    "                    continue\n",
    "        \n",
    "        # Shuffle the data\n",
    "        np.random.shuffle(self.training_data)\n",
    "        \n",
    "        # Check for consistency\n",
    "        inconsistent_data = []\n",
    "        for data in self.training_data:\n",
    "            if not isinstance(data[0], np.ndarray) or data[0].shape != (self.IMG_SIZE, self.IMG_SIZE):\n",
    "                inconsistent_data.append(data)\n",
    "                \n",
    "        if inconsistent_data:\n",
    "            print(\"Inconsistent data found. Skipping these entries.\")\n",
    "            self.training_data = [data for data in self.training_data if data not in inconsistent_data]\n",
    "\n",
    "        # Save the training data\n",
    "        np.save(\"train_data.npy\", np.array(self.training_data, dtype=object), allow_pickle=True)\n",
    "        print(\"Cats: \", self.catcount)\n",
    "        print(\"Dogs: \", self.dogcount)\n",
    "\n",
    "if REBUILD_DATA: \n",
    "    dogsvcats = DogVSCats()\n",
    "    dogsvcats.make_training_data()\n"
   ]
  },
  {
   "cell_type": "code",
   "execution_count": 25,
   "metadata": {},
   "outputs": [
    {
     "name": "stdout",
     "output_type": "stream",
     "text": [
      "24946\n",
      "[array([[175, 178, 164, ...,  71,  80,  70],\n",
      "        [168, 174, 176, ...,  76,  86,  90],\n",
      "        [171, 173, 179, ...,  82,  81,  90],\n",
      "        ...,\n",
      "        [ 28,  26,  23, ...,  54,  53,  54],\n",
      "        [ 26,  26,  23, ...,  50,  59,  55],\n",
      "        [ 26,  25,  22, ...,  52,  49,  49]], dtype=uint8) array([0., 1.])]\n"
     ]
    }
   ],
   "source": [
    "training_data = np.load(\"train_data.npy\", allow_pickle=True)\n",
    "print(len(training_data))\n",
    "print(training_data[0])"
   ]
  },
  {
   "cell_type": "code",
   "execution_count": 34,
   "metadata": {},
   "outputs": [
    {
     "data": {
      "image/png": "[encoded data removed]",
      "text/plain": [
       "<Figure size 640x480 with 1 Axes>"
      ]
     },
     "metadata": {},
     "output_type": "display_data"
    }
   ],
   "source": [
    "import matplotlib.pyplot as plt\n",
    "\n",
    "plt.imshow(training_data[1][0], cmap=None)\n",
    "plt.show()"
   ]
  },
  {
   "cell_type": "code",
   "execution_count": 35,
   "metadata": {},
   "outputs": [
    {
     "data": {
      "text/plain": [
       "array([1., 0.])"
      ]
     },
     "execution_count": 35,
     "metadata": {},
     "output_type": "execute_result"
    }
   ],
   "source": [
    "training_data[1][1]"
   ]
  }
 ],
 "metadata": {
  "kernelspec": {
   "display_name": "Python 3",
   "language": "python",
   "name": "python3"
  },
  "language_info": {
   "codemirror_mode": {
    "name": "ipython",
    "version": 3
   },
   "file_extension": ".py",
   "mimetype": "text/x-python",
   "name": "python",
   "nbconvert_exporter": "python",
   "pygments_lexer": "ipython3",
   "version": "3.12.5"
  }
 },
 "nbformat": 4,
 "nbformat_minor": 2
}
