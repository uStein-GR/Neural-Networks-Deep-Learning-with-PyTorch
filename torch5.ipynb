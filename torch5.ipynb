{
 "cells": [
  {
   "cell_type": "code",
   "execution_count": 29,
   "metadata": {},
   "outputs": [
    {
     "name": "stderr",
     "output_type": "stream",
     "text": [
      "<>:10: SyntaxWarning: invalid escape sequence '\\K'\n",
      "<>:11: SyntaxWarning: invalid escape sequence '\\K'\n",
      "<>:10: SyntaxWarning: invalid escape sequence '\\K'\n",
      "<>:11: SyntaxWarning: invalid escape sequence '\\K'\n",
      "C:\\Users\\Spieg\\AppData\\Local\\Temp\\ipykernel_22132\\881488337.py:10: SyntaxWarning: invalid escape sequence '\\K'\n",
      "  CATS = \"D:\\KMUTT\\Year 4th\\ENE490 DL\\Coding\\PyTorch\\PetImages\\Cat\"\n",
      "C:\\Users\\Spieg\\AppData\\Local\\Temp\\ipykernel_22132\\881488337.py:11: SyntaxWarning: invalid escape sequence '\\K'\n",
      "  DOGS = \"D:\\KMUTT\\Year 4th\\ENE490 DL\\Coding\\PyTorch\\PetImages\\Dog\"\n"
     ]
    },
    {
     "name": "stdout",
     "output_type": "stream",
     "text": [
      "D:\\KMUTT\\Year 4th\\ENE490 DL\\Coding\\PyTorch\\PetImages\\Cat\n"
     ]
    },
    {
     "name": "stderr",
     "output_type": "stream",
     "text": [
      "100%|██████████| 12501/12501 [00:08<00:00, 1509.77it/s]\n"
     ]
    },
    {
     "name": "stdout",
     "output_type": "stream",
     "text": [
      "D:\\KMUTT\\Year 4th\\ENE490 DL\\Coding\\PyTorch\\PetImages\\Dog\n"
     ]
    },
    {
     "name": "stderr",
     "output_type": "stream",
     "text": [
      "100%|██████████| 12501/12501 [00:09<00:00, 1362.11it/s]"
     ]
    },
    {
     "name": "stdout",
     "output_type": "stream",
     "text": [
      "Cats:  12476\n",
      "Dogs:  12470\n"
     ]
    },
    {
     "name": "stderr",
     "output_type": "stream",
     "text": [
      "\n"
     ]
    }
   ],
   "source": [
    "import os\n",
    "import cv2\n",
    "import numpy as np\n",
    "from  tqdm import tqdm\n",
    "\n",
    "REBUILD_DATA = True\n",
    "\n",
    "class DogVSCats():\n",
    "    IMG_SIZE = 50\n",
    "    CATS = \"D:\\KMUTT\\Year 4th\\ENE490 DL\\Coding\\PyTorch\\PetImages\\Cat\"\n",
    "    DOGS = \"D:\\KMUTT\\Year 4th\\ENE490 DL\\Coding\\PyTorch\\PetImages\\Dog\"\n",
    "    LABELS = {CATS: 0, DOGS: 1}\n",
    "\n",
    "    training_data = []\n",
    "    catcount = 0\n",
    "    dogcount = 0\n",
    "\n",
    "    def make_training_data(self):\n",
    "        for label in self.LABELS:\n",
    "            print(label)\n",
    "            for f in tqdm(os.listdir(label)):\n",
    "                try:\n",
    "                    path = os.path.join(label, f)\n",
    "                    img = cv2.imread(path, cv2.IMREAD_GRAYSCALE)\n",
    "                    img = cv2.resize(img, (self.IMG_SIZE, self.IMG_SIZE))\n",
    "                    self.training_data.append([np.array(img), np.eye(2)[self.LABELS[label]]])\n",
    "\n",
    "                    if label == self.CATS:\n",
    "                        self.catcount += 1\n",
    "                    elif label == self.DOGS:\n",
    "                        self.dogcount += 1\n",
    "                except Exception as e:\n",
    "                    pass\n",
    "                    # print(str(e))\n",
    "        np.random.shuffle(self.training_data)\n",
    "        # np.save(\"train_data.npy\", self.training_data, allow_pickle=True)\n",
    "        print(\"Cats: \", self.catcount)\n",
    "        print(\"Dogs: \", self.dogcount)\n",
    "\n",
    "if REBUILD_DATA:\n",
    "    dogsvcats = DogVSCats()\n",
    "    dogsvcats.make_training_data()"
   ]
  },
  {
   "cell_type": "code",
   "execution_count": null,
   "metadata": {},
   "outputs": [],
   "source": [
    "training_data = np.load(\"train_data.npy\", allow_pickle=True)"
   ]
  }
 ],
 "metadata": {
  "kernelspec": {
   "display_name": "Python 3",
   "language": "python",
   "name": "python3"
  },
  "language_info": {
   "codemirror_mode": {
    "name": "ipython",
    "version": 3
   },
   "file_extension": ".py",
   "mimetype": "text/x-python",
   "name": "python",
   "nbconvert_exporter": "python",
   "pygments_lexer": "ipython3",
   "version": "3.12.5"
  }
 },
 "nbformat": 4,
 "nbformat_minor": 2
}
